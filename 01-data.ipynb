{
 "cells": [
  {
   "cell_type": "markdown",
   "metadata": {},
   "source": [
    "# 01 / Данные\n",
    "\n",
    "*Summary*:\n",
    "\n",
    "-  Используем рыночные данные по ежедневным ценам и объёмам торгов из открытых источников\n",
    "\n",
    "-  Убираем нестационарность временных рядов (в оснвном с помощью дифферинцирования)\n",
    "\n",
    "-  Собираем трансофрмированные признаки в общий контейнер\n",
    "\n",
    "-  На его основе готовим признаки-скользящие окна, которые будут использоваться при обучении\n",
    "\n",
    "-  Разделяем на обучающую, валидационную и тестовую выборки. К данным применяем масштабирование (фитим только на обучающей выборке, к валидационной и тестовой только применяем)."
   ]
  },
  {
   "cell_type": "code",
   "execution_count": 1,
   "metadata": {},
   "outputs": [],
   "source": [
    "import os\n",
    "\n",
    "import numpy as np\n",
    "\n",
    "%matplotlib inline\n",
    "import matplotlib.pyplot as plt\n",
    "import seaborn as sns\n",
    "sns.set()"
   ]
  },
  {
   "cell_type": "code",
   "execution_count": 2,
   "metadata": {},
   "outputs": [],
   "source": [
    "from pandas_datareader import data as pdr"
   ]
  },
  {
   "cell_type": "code",
   "execution_count": 3,
   "metadata": {},
   "outputs": [],
   "source": [
    "from sklearn.preprocessing import MinMaxScaler, StandardScaler"
   ]
  },
  {
   "cell_type": "code",
   "execution_count": 4,
   "metadata": {},
   "outputs": [],
   "source": [
    "import importlib\n",
    "\n",
    "import mdp\n",
    "\n",
    "importlib.reload(mdp)\n",
    "importlib.reload(mdp.marketData)\n",
    "importlib.reload(mdp.timeSeries)\n",
    "importlib.reload(mdp.movingWindowFeatures)\n",
    "importlib.reload(mdp.plotHelpers)\n",
    "importlib.reload(mdp.utils);"
   ]
  },
  {
   "cell_type": "code",
   "execution_count": 5,
   "metadata": {},
   "outputs": [],
   "source": [
    "from mdp import TimeSeries\n",
    "from mdp import MarketData\n",
    "from mdp import MovingWindowFeatures\n",
    "\n",
    "import mdp.utils as utils\n",
    "import mdp.plotHelpers as plotHelpers"
   ]
  },
  {
   "cell_type": "code",
   "execution_count": 6,
   "metadata": {},
   "outputs": [],
   "source": [
    "INSTRUMENT = 'CVX' # Chevron corp\n",
    "START_FROM = '2009-01-01'\n",
    "WINDOW_SIZE = 20\n",
    "VAL_SPLIT = '2019-01-03'\n",
    "TEST_SPLIT = '2019-06-01'"
   ]
  },
  {
   "cell_type": "markdown",
   "metadata": {},
   "source": [
    "# Рыночные данные"
   ]
  },
  {
   "cell_type": "markdown",
   "metadata": {},
   "source": [
    "Загружаем открытые рыночные данные через [`pandas_datareader`](https://pandas-datareader.readthedocs.io/en/latest/index.html \"pandas-datareader &mdash; pandas-datareader documentation\") из сервиса [Tiingo](https://www.tiingo.com \"Stock Market Tools | Tiingo\")."
   ]
  },
  {
   "cell_type": "code",
   "execution_count": 7,
   "metadata": {},
   "outputs": [
    {
     "data": {
      "text/html": [
       "<div>\n",
       "<style scoped>\n",
       "    .dataframe tbody tr th:only-of-type {\n",
       "        vertical-align: middle;\n",
       "    }\n",
       "\n",
       "    .dataframe tbody tr th {\n",
       "        vertical-align: top;\n",
       "    }\n",
       "\n",
       "    .dataframe thead th {\n",
       "        text-align: right;\n",
       "    }\n",
       "</style>\n",
       "<table border=\"1\" class=\"dataframe\">\n",
       "  <thead>\n",
       "    <tr style=\"text-align: right;\">\n",
       "      <th></th>\n",
       "      <th></th>\n",
       "      <th>close</th>\n",
       "      <th>high</th>\n",
       "      <th>low</th>\n",
       "      <th>open</th>\n",
       "      <th>volume</th>\n",
       "      <th>adjClose</th>\n",
       "      <th>adjHigh</th>\n",
       "      <th>adjLow</th>\n",
       "      <th>adjOpen</th>\n",
       "      <th>adjVolume</th>\n",
       "      <th>divCash</th>\n",
       "      <th>splitFactor</th>\n",
       "    </tr>\n",
       "    <tr>\n",
       "      <th>symbol</th>\n",
       "      <th>date</th>\n",
       "      <th></th>\n",
       "      <th></th>\n",
       "      <th></th>\n",
       "      <th></th>\n",
       "      <th></th>\n",
       "      <th></th>\n",
       "      <th></th>\n",
       "      <th></th>\n",
       "      <th></th>\n",
       "      <th></th>\n",
       "      <th></th>\n",
       "      <th></th>\n",
       "    </tr>\n",
       "  </thead>\n",
       "  <tbody>\n",
       "    <tr>\n",
       "      <th rowspan=\"5\" valign=\"top\">CVX</th>\n",
       "      <th>2019-12-10 00:00:00+00:00</th>\n",
       "      <td>117.89</td>\n",
       "      <td>118.09</td>\n",
       "      <td>117.05</td>\n",
       "      <td>118.03</td>\n",
       "      <td>4886836</td>\n",
       "      <td>117.89</td>\n",
       "      <td>118.09</td>\n",
       "      <td>117.05</td>\n",
       "      <td>118.03</td>\n",
       "      <td>4886836</td>\n",
       "      <td>0.0</td>\n",
       "      <td>1.0</td>\n",
       "    </tr>\n",
       "    <tr>\n",
       "      <th>2019-12-11 00:00:00+00:00</th>\n",
       "      <td>116.23</td>\n",
       "      <td>117.66</td>\n",
       "      <td>116.13</td>\n",
       "      <td>117.09</td>\n",
       "      <td>6815279</td>\n",
       "      <td>116.23</td>\n",
       "      <td>117.66</td>\n",
       "      <td>116.13</td>\n",
       "      <td>117.09</td>\n",
       "      <td>6815279</td>\n",
       "      <td>0.0</td>\n",
       "      <td>1.0</td>\n",
       "    </tr>\n",
       "    <tr>\n",
       "      <th>2019-12-12 00:00:00+00:00</th>\n",
       "      <td>118.81</td>\n",
       "      <td>118.89</td>\n",
       "      <td>116.59</td>\n",
       "      <td>116.59</td>\n",
       "      <td>6461979</td>\n",
       "      <td>118.81</td>\n",
       "      <td>118.89</td>\n",
       "      <td>116.59</td>\n",
       "      <td>116.59</td>\n",
       "      <td>6461979</td>\n",
       "      <td>0.0</td>\n",
       "      <td>1.0</td>\n",
       "    </tr>\n",
       "    <tr>\n",
       "      <th>2019-12-13 00:00:00+00:00</th>\n",
       "      <td>117.96</td>\n",
       "      <td>119.54</td>\n",
       "      <td>117.90</td>\n",
       "      <td>119.05</td>\n",
       "      <td>4863445</td>\n",
       "      <td>117.96</td>\n",
       "      <td>119.54</td>\n",
       "      <td>117.90</td>\n",
       "      <td>119.05</td>\n",
       "      <td>4863445</td>\n",
       "      <td>0.0</td>\n",
       "      <td>1.0</td>\n",
       "    </tr>\n",
       "    <tr>\n",
       "      <th>2019-12-16 00:00:00+00:00</th>\n",
       "      <td>119.36</td>\n",
       "      <td>119.47</td>\n",
       "      <td>118.61</td>\n",
       "      <td>118.86</td>\n",
       "      <td>5619344</td>\n",
       "      <td>119.36</td>\n",
       "      <td>119.47</td>\n",
       "      <td>118.61</td>\n",
       "      <td>118.86</td>\n",
       "      <td>5619344</td>\n",
       "      <td>0.0</td>\n",
       "      <td>1.0</td>\n",
       "    </tr>\n",
       "  </tbody>\n",
       "</table>\n",
       "</div>"
      ],
      "text/plain": [
       "                                   close    high     low    open   volume  \\\n",
       "symbol date                                                                 \n",
       "CVX    2019-12-10 00:00:00+00:00  117.89  118.09  117.05  118.03  4886836   \n",
       "       2019-12-11 00:00:00+00:00  116.23  117.66  116.13  117.09  6815279   \n",
       "       2019-12-12 00:00:00+00:00  118.81  118.89  116.59  116.59  6461979   \n",
       "       2019-12-13 00:00:00+00:00  117.96  119.54  117.90  119.05  4863445   \n",
       "       2019-12-16 00:00:00+00:00  119.36  119.47  118.61  118.86  5619344   \n",
       "\n",
       "                                  adjClose  adjHigh  adjLow  adjOpen  \\\n",
       "symbol date                                                            \n",
       "CVX    2019-12-10 00:00:00+00:00    117.89   118.09  117.05   118.03   \n",
       "       2019-12-11 00:00:00+00:00    116.23   117.66  116.13   117.09   \n",
       "       2019-12-12 00:00:00+00:00    118.81   118.89  116.59   116.59   \n",
       "       2019-12-13 00:00:00+00:00    117.96   119.54  117.90   119.05   \n",
       "       2019-12-16 00:00:00+00:00    119.36   119.47  118.61   118.86   \n",
       "\n",
       "                                  adjVolume  divCash  splitFactor  \n",
       "symbol date                                                        \n",
       "CVX    2019-12-10 00:00:00+00:00    4886836      0.0          1.0  \n",
       "       2019-12-11 00:00:00+00:00    6815279      0.0          1.0  \n",
       "       2019-12-12 00:00:00+00:00    6461979      0.0          1.0  \n",
       "       2019-12-13 00:00:00+00:00    4863445      0.0          1.0  \n",
       "       2019-12-16 00:00:00+00:00    5619344      0.0          1.0  "
      ]
     },
     "execution_count": 7,
     "metadata": {},
     "output_type": "execute_result"
    }
   ],
   "source": [
    "instr_df = pdr.get_data_tiingo(INSTRUMENT, api_key=os.environ.get('TIINGO_API_KEY'), start=START_FROM)\n",
    "\n",
    "instr_df.tail()"
   ]
  },
  {
   "cell_type": "code",
   "execution_count": 8,
   "metadata": {},
   "outputs": [
    {
     "name": "stdout",
     "output_type": "stream",
     "text": [
      "<class 'pandas.core.frame.DataFrame'>\n",
      "MultiIndex: 2758 entries, (CVX, 2009-01-02 00:00:00+00:00) to (CVX, 2019-12-16 00:00:00+00:00)\n",
      "Data columns (total 12 columns):\n",
      "close          2758 non-null float64\n",
      "high           2758 non-null float64\n",
      "low            2758 non-null float64\n",
      "open           2758 non-null float64\n",
      "volume         2758 non-null int64\n",
      "adjClose       2758 non-null float64\n",
      "adjHigh        2758 non-null float64\n",
      "adjLow         2758 non-null float64\n",
      "adjOpen        2758 non-null float64\n",
      "adjVolume      2758 non-null int64\n",
      "divCash        2758 non-null float64\n",
      "splitFactor    2758 non-null float64\n",
      "dtypes: float64(10), int64(2)\n",
      "memory usage: 288.3+ KB\n"
     ]
    }
   ],
   "source": [
    "instr_df.info();"
   ]
  },
  {
   "cell_type": "markdown",
   "metadata": {},
   "source": [
    "Сохраняем данные и вычисляем индикаторы."
   ]
  },
  {
   "cell_type": "code",
   "execution_count": 9,
   "metadata": {},
   "outputs": [],
   "source": [
    "instr = MarketData.create_from_tiingo(INSTRUMENT, start=START_FROM)"
   ]
  },
  {
   "cell_type": "markdown",
   "metadata": {},
   "source": [
    "Наши признаки: цены (открытие, максимум, минимум, закрытие), объём торгов, индикаторы."
   ]
  },
  {
   "cell_type": "code",
   "execution_count": 10,
   "metadata": {},
   "outputs": [
    {
     "data": {
      "text/plain": [
       "['o',\n",
       " 'h',\n",
       " 'l',\n",
       " 'c',\n",
       " 'v',\n",
       " 'ema14',\n",
       " 'ema30',\n",
       " 'macd',\n",
       " 'macd_signal',\n",
       " 'rsi14',\n",
       " 'bband20_upper',\n",
       " 'bband20_middle',\n",
       " 'bband20_lower',\n",
       " 'willr14']"
      ]
     },
     "execution_count": 10,
     "metadata": {},
     "output_type": "execute_result"
    }
   ],
   "source": [
    "instr.feature_names"
   ]
  },
  {
   "cell_type": "markdown",
   "metadata": {},
   "source": [
    "# Исходные признаки\n",
    "\n",
    "И проверка их стационарности."
   ]
  },
  {
   "cell_type": "code",
   "execution_count": 11,
   "metadata": {},
   "outputs": [],
   "source": [
    "def plot_transformed_series(instrument, series, orig_display_name, transformed_display_name):\n",
    "    plotHelpers.plot_transformed_timeseries(\n",
    "        instrument.instrument,\n",
    "        series,\n",
    "        {\n",
    "            'title_orig': orig_display_name,\n",
    "            'xlabel_orig': 'Date',\n",
    "            'ylabel_orig': orig_display_name,\n",
    "            'title_transformed': transformed_display_name,\n",
    "            'xlabel_transformed': 'Date',\n",
    "            'ylabel_transformed': transformed_display_name\n",
    "        })"
   ]
  },
  {
   "cell_type": "markdown",
   "metadata": {},
   "source": [
    "## Цены"
   ]
  },
  {
   "cell_type": "markdown",
   "metadata": {},
   "source": [
    "### Цена закрытия\n",
    "\n",
    "Скорректированная (adjusted) на корпоративные действия.\n",
    "Наш основной признак и целевая переменная."
   ]
  },
  {
   "cell_type": "markdown",
   "metadata": {},
   "source": [
    "Сам ряд цен, очевидно, нестационарен:"
   ]
  },
  {
   "cell_type": "code",
   "execution_count": 12,
   "metadata": {},
   "outputs": [
    {
     "name": "stdout",
     "output_type": "stream",
     "text": [
      "Augmented Dickey-Fuller Test Results:\n",
      "ADF Test Statistic        -1.455737\n",
      "P-Value                    0.555283\n",
      "# Lags Used                6.000000\n",
      "# Observations Used     2751.000000\n",
      "Critical Value (1%)       -3.432729\n",
      "Critical Value (5%)       -2.862591\n",
      "Critical Value (10%)      -2.567330\n",
      "dtype: float64\n"
     ]
    },
    {
     "data": {
      "text/plain": [
       "(0.5552832451239864, False)"
      ]
     },
     "execution_count": 12,
     "metadata": {},
     "output_type": "execute_result"
    }
   ],
   "source": [
    "instr.c.adf_report(True)"
   ]
  },
  {
   "cell_type": "markdown",
   "metadata": {},
   "source": [
    "Переходим к логарифмическим доходностям. Уже это позволяет сделать ряд стациоарным:"
   ]
  },
  {
   "cell_type": "code",
   "execution_count": 13,
   "metadata": {},
   "outputs": [
    {
     "name": "stdout",
     "output_type": "stream",
     "text": [
      "Augmented Dickey-Fuller Test Results:\n",
      "ADF Test Statistic       -24.958208\n",
      "P-Value                    0.000000\n",
      "# Lags Used                4.000000\n",
      "# Observations Used     2752.000000\n",
      "Critical Value (1%)       -3.432728\n",
      "Critical Value (5%)       -2.862591\n",
      "Critical Value (10%)      -2.567329\n",
      "dtype: float64\n"
     ]
    },
    {
     "data": {
      "text/plain": [
       "(0.0, True)"
      ]
     },
     "execution_count": 13,
     "metadata": {},
     "output_type": "execute_result"
    }
   ],
   "source": [
    "close_log_returns = instr.c.transform(transforms={'ratios' : {}, 'ln' : {}})\n",
    "\n",
    "close_log_returns.adf_report(True)"
   ]
  },
  {
   "cell_type": "markdown",
   "metadata": {},
   "source": [
    "#### Визуализация"
   ]
  },
  {
   "cell_type": "code",
   "execution_count": 14,
   "metadata": {},
   "outputs": [
    {
     "data": {
      "image/png": "[encoded data removed]",
      "text/plain": [
       "<Figure size 1152x432 with 2 Axes>"
      ]
     },
     "metadata": {
      "needs_background": "light"
     },
     "output_type": "display_data"
    }
   ],
   "source": [
    "plot_transformed_series(instr, close_log_returns, 'Daily close price, USD', 'Daily log return')"
   ]
  },
  {
   "cell_type": "markdown",
   "metadata": {},
   "source": [
    "### Цена открытия\n",
    "\n",
    "Аналогично для цены открытия."
   ]
  },
  {
   "cell_type": "code",
   "execution_count": 15,
   "metadata": {},
   "outputs": [
    {
     "data": {
      "text/plain": [
       "(0.5555637863793559, False)"
      ]
     },
     "execution_count": 15,
     "metadata": {},
     "output_type": "execute_result"
    }
   ],
   "source": [
    "instr.o.adf_report()"
   ]
  },
  {
   "cell_type": "code",
   "execution_count": 16,
   "metadata": {},
   "outputs": [
    {
     "data": {
      "text/plain": [
       "(0.0, True)"
      ]
     },
     "execution_count": 16,
     "metadata": {},
     "output_type": "execute_result"
    }
   ],
   "source": [
    "instr.o.transform(transforms={'ratios' : {}, 'ln' : {}}).adf_report()"
   ]
  },
  {
   "cell_type": "markdown",
   "metadata": {},
   "source": [
    "### Максимальная цена дня"
   ]
  },
  {
   "cell_type": "code",
   "execution_count": 17,
   "metadata": {},
   "outputs": [
    {
     "data": {
      "text/plain": [
       "(0.5489089727351367, False)"
      ]
     },
     "execution_count": 17,
     "metadata": {},
     "output_type": "execute_result"
    }
   ],
   "source": [
    "instr.h.adf_report()"
   ]
  },
  {
   "cell_type": "code",
   "execution_count": 18,
   "metadata": {},
   "outputs": [
    {
     "data": {
      "text/plain": [
       "(0.0, True)"
      ]
     },
     "execution_count": 18,
     "metadata": {},
     "output_type": "execute_result"
    }
   ],
   "source": [
    "instr.h.transform(transforms={'ratios' : {}, 'ln' : {}}).adf_report()"
   ]
  },
  {
   "cell_type": "markdown",
   "metadata": {},
   "source": [
    "### Минмальная цена дня"
   ]
  },
  {
   "cell_type": "code",
   "execution_count": 19,
   "metadata": {},
   "outputs": [
    {
     "data": {
      "text/plain": [
       "(0.5766643241458267, False)"
      ]
     },
     "execution_count": 19,
     "metadata": {},
     "output_type": "execute_result"
    }
   ],
   "source": [
    "instr.l.adf_report()"
   ]
  },
  {
   "cell_type": "code",
   "execution_count": 20,
   "metadata": {},
   "outputs": [
    {
     "data": {
      "text/plain": [
       "(0.0, True)"
      ]
     },
     "execution_count": 20,
     "metadata": {},
     "output_type": "execute_result"
    }
   ],
   "source": [
    "instr.l.transform(transforms={'ratios' : {}, 'ln' : {}}).adf_report()"
   ]
  },
  {
   "cell_type": "markdown",
   "metadata": {},
   "source": [
    "## Объём торгов\n",
    "\n",
    "По критерию ADF он сразу оказался стационарным."
   ]
  },
  {
   "cell_type": "code",
   "execution_count": 21,
   "metadata": {},
   "outputs": [
    {
     "data": {
      "text/plain": [
       "(0.0005894737446547514, True)"
      ]
     },
     "execution_count": 21,
     "metadata": {},
     "output_type": "execute_result"
    }
   ],
   "source": [
    "instr.v.adf_report()"
   ]
  },
  {
   "cell_type": "markdown",
   "metadata": {},
   "source": [
    "Но после дифференцирования получается ещё лучше:"
   ]
  },
  {
   "cell_type": "code",
   "execution_count": 22,
   "metadata": {},
   "outputs": [
    {
     "data": {
      "text/plain": [
       "(2.1545527402809642e-28, True)"
      ]
     },
     "execution_count": 22,
     "metadata": {},
     "output_type": "execute_result"
    }
   ],
   "source": [
    "diff_order = 1\n",
    "\n",
    "volume_diff =  instr.v.transform(transforms={'diffs': {'order': diff_order}})\n",
    "\n",
    "volume_diff.adf_report(False)"
   ]
  },
  {
   "cell_type": "code",
   "execution_count": 23,
   "metadata": {},
   "outputs": [
    {
     "data": {
      "image/png": "[encoded data removed]",
      "text/plain": [
       "<Figure size 1152x432 with 2 Axes>"
      ]
     },
     "metadata": {
      "needs_background": "light"
     },
     "output_type": "display_data"
    }
   ],
   "source": [
    "plot_transformed_series(instr, volume_diff, 'Volume', f'Volume diff({diff_order})')"
   ]
  },
  {
   "cell_type": "markdown",
   "metadata": {},
   "source": [
    "## Индикаторы"
   ]
  },
  {
   "cell_type": "markdown",
   "metadata": {},
   "source": [
    "### [MACD](https://www.investopedia.com/terms/m/macd.asp)"
   ]
  },
  {
   "cell_type": "markdown",
   "metadata": {},
   "source": [
    "#### Визуализация"
   ]
  },
  {
   "cell_type": "code",
   "execution_count": 24,
   "metadata": {},
   "outputs": [
    {
     "ename": "NameError",
     "evalue": "name 'PlotHelpers' is not defined",
     "output_type": "error",
     "traceback": [
      "\u001b[1;31m---------------------------------------------------------------------------\u001b[0m",
      "\u001b[1;31mNameError\u001b[0m                                 Traceback (most recent call last)",
      "\u001b[1;32m<ipython-input-24-86716549e0c1>\u001b[0m in \u001b[0;36m<module>\u001b[1;34m\u001b[0m\n\u001b[1;32m----> 1\u001b[1;33m \u001b[0mPlotHelpers\u001b[0m\u001b[1;33m.\u001b[0m\u001b[0mplot_macd\u001b[0m\u001b[1;33m(\u001b[0m\u001b[0minstr\u001b[0m\u001b[1;33m,\u001b[0m \u001b[1;36m200\u001b[0m\u001b[1;33m)\u001b[0m\u001b[1;33m\u001b[0m\u001b[1;33m\u001b[0m\u001b[0m\n\u001b[0m",
      "\u001b[1;31mNameError\u001b[0m: name 'PlotHelpers' is not defined"
     ]
    }
   ],
   "source": [
    "plotHelpers.plot_macd(instr, 200)"
   ]
  },
  {
   "cell_type": "markdown",
   "metadata": {},
   "source": [
    "#### MACD\n",
    "\n",
    "MACD по критерию ADF также сразу определяется как стационарный, но дифференцирование улучшает картину."
   ]
  },
  {
   "cell_type": "code",
   "execution_count": null,
   "metadata": {},
   "outputs": [],
   "source": [
    "instr.macd.adf_report()"
   ]
  },
  {
   "cell_type": "code",
   "execution_count": null,
   "metadata": {},
   "outputs": [],
   "source": [
    "diff_order = 1\n",
    "\n",
    "plot_transformed_series(instr,\n",
    "                        instr.macd.transform(transforms={'diffs': {'order': diff_order}}),\n",
    "                        'MACD', f'MACD diff({diff_order})')"
   ]
  },
  {
   "cell_type": "markdown",
   "metadata": {},
   "source": [
    "Преобразование [Бокса-Кокса](https://www.statisticshowto.datasciencecentral.com/box-cox-transformation/) позволяет немного сгладить дисперсию."
   ]
  },
  {
   "cell_type": "code",
   "execution_count": null,
   "metadata": {},
   "outputs": [],
   "source": [
    "boxcox_lmbda = 0.5\n",
    "\n",
    "plot_transformed_series(instr,\n",
    "                        instr.macd.transform(transforms={'move': {'value': 4.},\n",
    "                                                         'boxcox': {'lmbda': boxcox_lmbda},\n",
    "                                                         'diffs': {'order': diff_order}}),\n",
    "                        'MACD', f'MACD BoxCox({boxcox_lmbda}) + diff({diff_order})')"
   ]
  },
  {
   "cell_type": "markdown",
   "metadata": {},
   "source": [
    "Но, думаю, что для итогового признака в данном случае никаких преобразований с точки зрения стационарности делать не буду."
   ]
  },
  {
   "cell_type": "markdown",
   "metadata": {},
   "source": [
    "### [EMA](https://www.investopedia.com/terms/e/ema.asp)"
   ]
  },
  {
   "cell_type": "code",
   "execution_count": null,
   "metadata": {},
   "outputs": [],
   "source": [
    "instr.ema14.adf_report()"
   ]
  },
  {
   "cell_type": "code",
   "execution_count": null,
   "metadata": {},
   "outputs": [],
   "source": [
    "diff_order = 1\n",
    "\n",
    "ema14_diff = instr.ema14.transform(transforms={'diffs' : {'order' : diff_order}})\n",
    "\n",
    "ema14_diff.adf_report()"
   ]
  },
  {
   "cell_type": "code",
   "execution_count": null,
   "metadata": {},
   "outputs": [],
   "source": [
    "plot_transformed_series(instr,\n",
    "                        ema14_diff,\n",
    "                        'EMA(14)', f'EMA(14) diff({diff_order})')"
   ]
  },
  {
   "cell_type": "markdown",
   "metadata": {},
   "source": [
    "### [RSI](https://www.investopedia.com/terms/r/rsi.asp)"
   ]
  },
  {
   "cell_type": "code",
   "execution_count": null,
   "metadata": {},
   "outputs": [],
   "source": [
    "instr.rsi14.adf_report()"
   ]
  },
  {
   "cell_type": "code",
   "execution_count": null,
   "metadata": {},
   "outputs": [],
   "source": [
    "diff_order = 1\n",
    "\n",
    "plot_transformed_series(instr,\n",
    "                        instr.rsi14.transform(transforms={'diffs' : {'order' : diff_order}}),\n",
    "                        'RSI(14)', f'RSI(14) diff({diff_order})')"
   ]
  },
  {
   "cell_type": "markdown",
   "metadata": {},
   "source": [
    "Здесь, наверное, тоже ничего специально делать не надо."
   ]
  },
  {
   "cell_type": "markdown",
   "metadata": {},
   "source": [
    "### [Bollinger Band](https://www.investopedia.com/terms/b/bollingerbands.asp)"
   ]
  },
  {
   "cell_type": "code",
   "execution_count": null,
   "metadata": {},
   "outputs": [],
   "source": [
    "instr.bband20_lower.adf_report(), instr.bband20_middle.adf_report(), instr.bband20_upper.adf_report()"
   ]
  },
  {
   "cell_type": "code",
   "execution_count": null,
   "metadata": {},
   "outputs": [],
   "source": [
    "diff_order = 1\n",
    "\n",
    "plot_transformed_series(instr,\n",
    "                        instr.bband20_middle.transform(transforms={'diffs' : {'order' : diff_order}}),\n",
    "                        'B-Band(20) middle', f'B-Band(20) middle diff({diff_order})')"
   ]
  },
  {
   "cell_type": "markdown",
   "metadata": {},
   "source": [
    "### [Williams %R](https://www.investopedia.com/terms/w/williamsr.asp)"
   ]
  },
  {
   "cell_type": "code",
   "execution_count": null,
   "metadata": {},
   "outputs": [],
   "source": [
    "instr.willr14.adf_report()"
   ]
  },
  {
   "cell_type": "code",
   "execution_count": null,
   "metadata": {},
   "outputs": [],
   "source": [
    "diff_order = 1\n",
    "\n",
    "plot_transformed_series(instr,\n",
    "                        instr.willr14.transform(transforms={'diffs' : {'order' : diff_order}}),\n",
    "                        'Williams %R(14)', f'Williams %R(14) diff({diff_order})')"
   ]
  },
  {
   "cell_type": "markdown",
   "metadata": {},
   "source": [
    "Индикатор изначально выглядит как белый шум, так что с точки зрения стационарности чего-то дополнительного не требуется."
   ]
  },
  {
   "cell_type": "markdown",
   "metadata": {},
   "source": [
    "# Трансформированные признаки\n",
    "\n",
    "Применяем преобразования согласно исследованию, проведённому выше."
   ]
  },
  {
   "cell_type": "code",
   "execution_count": null,
   "metadata": {},
   "outputs": [],
   "source": [
    "def make_feature_selector():\n",
    "    price_transformer = lambda: {'ratios': {}, 'ln': {}}\n",
    "    diff_transformer = lambda o: {'diffs': {'order': o}}\n",
    "    identity_transformer = lambda: {}\n",
    "    feature_transformations = {\n",
    "        'o': price_transformer(),\n",
    "        'h': price_transformer(),\n",
    "        'l': price_transformer(),\n",
    "        'c': price_transformer(),\n",
    "        'v': diff_transformer(1),\n",
    "        'ema14': diff_transformer(1),\n",
    "        'ema30': diff_transformer(1),\n",
    "        'macd': identity_transformer(),\n",
    "        'macd_signal': identity_transformer(),\n",
    "        'rsi14': diff_transformer(1),\n",
    "        'bband20_upper': diff_transformer(1),\n",
    "        'bband20_middle': diff_transformer(1),\n",
    "        'bband20_lower': diff_transformer(1),\n",
    "        'willr14': identity_transformer()\n",
    "    }\n",
    "    return feature_transformations"
   ]
  },
  {
   "cell_type": "markdown",
   "metadata": {},
   "source": [
    "Новый контейнер для трансформированных признаков."
   ]
  },
  {
   "cell_type": "code",
   "execution_count": null,
   "metadata": {},
   "outputs": [],
   "source": [
    "instr_transformed = instr.select_transform(make_feature_selector())"
   ]
  },
  {
   "cell_type": "code",
   "execution_count": null,
   "metadata": {},
   "outputs": [],
   "source": [
    "fig, ax = plt.subplots(1, 2, figsize=(15, 6))\n",
    "plotHelpers.plot_timeseries(ax[0], instr.instrument, instr.c,\n",
    "                            'daily close price', 'Date', 'Close price, USD')\n",
    "plotHelpers.plot_timeseries(ax[1], instr_transformed.instrument, instr_transformed.c,\n",
    "                            'daily log returns', 'Date', 'Log return')\n",
    "fig.tight_layout()"
   ]
  },
  {
   "cell_type": "markdown",
   "metadata": {},
   "source": [
    "# Скользящие окна"
   ]
  },
  {
   "cell_type": "code",
   "execution_count": null,
   "metadata": {},
   "outputs": [],
   "source": [
    "# TODO"
   ]
  }
 ],
 "metadata": {
  "kernelspec": {
   "display_name": "Python 3",
   "language": "python",
   "name": "python3"
  },
  "language_info": {
   "codemirror_mode": {
    "name": "ipython",
    "version": 3
   },
   "file_extension": ".py",
   "mimetype": "text/x-python",
   "name": "python",
   "nbconvert_exporter": "python",
   "pygments_lexer": "ipython3",
   "version": "3.7.5"
  }
 },
 "nbformat": 4,
 "nbformat_minor": 2
}

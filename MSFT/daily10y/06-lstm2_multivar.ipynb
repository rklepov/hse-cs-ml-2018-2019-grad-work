{
 "cells": [
  {
   "cell_type": "markdown",
   "metadata": {
    "colab_type": "text",
    "id": "view-in-github"
   },
   "source": [
    "<a href=\"https://colab.research.google.com/github/rklepov/hse-cs-ml-2018-2019-grad-work/blob/CVX-10yr/CVX/daily10y/06-lstm2_multivar.ipynb\" target=\"_parent\"><img src=\"https://colab.research.google.com/assets/colab-badge.svg\" alt=\"Open In Colab\"/></a>"
   ]
  },
  {
   "cell_type": "markdown",
   "metadata": {
    "colab_type": "text",
    "id": "ews8vb6eAcBU"
   },
   "source": [
    "# *Многомерная модель на LSTM* (2 слоя)\n",
    "\n",
    "В качестве признаков используются цены, объём торгов и некоторое число индикаторов (всего 18 признаков)"
   ]
  },
  {
   "cell_type": "code",
   "execution_count": null,
   "metadata": {
    "colab": {},
    "colab_type": "code",
    "id": "cYpdruk-AcBb"
   },
   "outputs": [],
   "source": [
    "import os\n",
    "import glob\n",
    "import datetime\n",
    "import pickle\n",
    "\n",
    "import pandas as pd\n",
    "import numpy as np\n",
    "\n",
    "%matplotlib inline\n",
    "import matplotlib.pyplot as plt\n",
    "import seaborn as sns\n",
    "sns.set()"
   ]
  },
  {
   "cell_type": "code",
   "execution_count": null,
   "metadata": {
    "colab": {},
    "colab_type": "code",
    "id": "TyZJBVD7AcBg"
   },
   "outputs": [],
   "source": [
    "import warnings\n",
    "warnings.simplefilter(action='ignore', category=FutureWarning)"
   ]
  },
  {
   "cell_type": "code",
   "execution_count": null,
   "metadata": {
    "colab": {},
    "colab_type": "code",
    "id": "poDQYsoiAcBk"
   },
   "outputs": [],
   "source": [
    "from pandas_datareader import data as pdr"
   ]
  },
  {
   "cell_type": "code",
   "execution_count": null,
   "metadata": {
    "colab": {},
    "colab_type": "code",
    "id": "AGSQGAE5AcBp"
   },
   "outputs": [],
   "source": [
    "from sklearn.metrics import classification_report, confusion_matrix\n",
    "from sklearn.preprocessing import StandardScaler, MinMaxScaler"
   ]
  },
  {
   "cell_type": "code",
   "execution_count": null,
   "metadata": {
    "colab": {
     "base_uri": "https://localhost:8080/",
     "height": 34
    },
    "colab_type": "code",
    "id": "SdwsV5YCAcBt",
    "outputId": "36ee1135-c463-4979-ca2e-64bc5630e909"
   },
   "outputs": [],
   "source": [
    "import tensorflow as tf\n",
    "# tf.test.is_gpu_available()\n",
    "tf.__version__"
   ]
  },
  {
   "cell_type": "code",
   "execution_count": null,
   "metadata": {
    "colab": {},
    "colab_type": "code",
    "id": "Q8fTMJmGAcBy"
   },
   "outputs": [],
   "source": [
    "from tensorflow.keras import Model\n",
    "from tensorflow.keras.models import load_model\n",
    "from tensorflow.keras.layers import Input, Dense, LSTM, GRU, Flatten, ReLU, LeakyReLU, Dropout, BatchNormalization\n",
    "from tensorflow.keras.regularizers import L1L2\n",
    "from tensorflow.keras.callbacks import ReduceLROnPlateau, ModelCheckpoint, EarlyStopping, LearningRateScheduler\n",
    "from tensorflow.keras.optimizers import Nadam"
   ]
  },
  {
   "cell_type": "code",
   "execution_count": null,
   "metadata": {
    "colab": {},
    "colab_type": "code",
    "id": "5KrIbIJnAcB2"
   },
   "outputs": [],
   "source": [
    "import mdp\n",
    "\n",
    "from mdp import TimeSeries\n",
    "from mdp import MarketData\n",
    "from mdp import MovingWindowFeatures\n",
    "from mdp import ClassificationGenerator, RegressionGenerator, MultitaskGenerator\n",
    "from mdp import invert_log_ret\n",
    "\n",
    "import mdp.utils as utils\n",
    "import mdp.plotHelpers as plotHelpers"
   ]
  },
  {
   "cell_type": "code",
   "execution_count": null,
   "metadata": {
    "colab": {},
    "colab_type": "code",
    "id": "XxWy8A7cAcB6"
   },
   "outputs": [],
   "source": [
    "import importlib\n",
    "\n",
    "import mdp\n",
    "\n",
    "importlib.reload(mdp)\n",
    "importlib.reload(mdp.datasetGenerator)\n",
    "importlib.reload(mdp.marketData)\n",
    "importlib.reload(mdp.movingWindowFeatures)\n",
    "importlib.reload(mdp.timeSeries)\n",
    "importlib.reload(mdp.plotHelpers)\n",
    "importlib.reload(mdp.utils);"
   ]
  },
  {
   "cell_type": "markdown",
   "metadata": {
    "colab_type": "text",
    "id": "GCRpMG3BAcB9"
   },
   "source": [
    "# *Параметры*"
   ]
  },
  {
   "cell_type": "code",
   "execution_count": null,
   "metadata": {
    "colab": {},
    "colab_type": "code",
    "id": "UQcapcIeAcB-"
   },
   "outputs": [],
   "source": [
    "INSTRUMENT = 'MSFT' # Microsoft corp\n",
    "START_FROM = '2008-11-14'\n",
    "END_DATE = '2020-01-01'\n",
    "WINDOW_SIZE = 30\n",
    "FORECAST_OFFSET=1\n",
    "BATCH_SIZE = 32\n",
    "VAL_SPLIT = '2019-01-01'\n",
    "TEST_SPLIT = '2019-06-01'\n",
    "FORCE_TRAIN = False"
   ]
  },
  {
   "cell_type": "markdown",
   "metadata": {
    "colab_type": "text",
    "id": "wDM6LFbkAcCC"
   },
   "source": [
    "# *Исходные данные*\n",
    "\n",
    "Загрузка данных и вычисление индикаторов."
   ]
  },
  {
   "cell_type": "code",
   "execution_count": null,
   "metadata": {
    "colab": {},
    "colab_type": "code",
    "id": "ZPhGC4AgAcCD"
   },
   "outputs": [],
   "source": [
    "instr = MarketData.create_from_tiingo(INSTRUMENT, start=START_FROM)"
   ]
  },
  {
   "cell_type": "code",
   "execution_count": null,
   "metadata": {
    "colab": {
     "base_uri": "https://localhost:8080/",
     "height": 333
    },
    "colab_type": "code",
    "id": "kYJmFo50AcCG",
    "outputId": "0ed26ea2-c2d5-4d7c-fec0-5968218e3b0a"
   },
   "outputs": [],
   "source": [
    "instr.feature_names"
   ]
  },
  {
   "cell_type": "markdown",
   "metadata": {
    "colab_type": "text",
    "id": "IQ-lQRfEAcCJ"
   },
   "source": [
    "## Целевая переменная"
   ]
  },
  {
   "cell_type": "markdown",
   "metadata": {
    "colab_type": "text",
    "id": "4izbEGSEAcCK"
   },
   "source": [
    "Цена закрытия."
   ]
  },
  {
   "cell_type": "code",
   "execution_count": null,
   "metadata": {
    "colab": {},
    "colab_type": "code",
    "id": "IsVMSXxjAcCL"
   },
   "outputs": [],
   "source": [
    "orig_target = instr.c"
   ]
  },
  {
   "cell_type": "code",
   "execution_count": null,
   "metadata": {
    "colab": {},
    "colab_type": "code",
    "id": "IX_kMUfpAcCP"
   },
   "outputs": [],
   "source": [
    "def plot_transformed_series(instrument, series, orig_display_name, transformed_display_name):\n",
    "    plotHelpers.plot_transformed_timeseries(\n",
    "        instrument.instrument,\n",
    "        series,\n",
    "        title_orig = orig_display_name,\n",
    "        xlabel_orig = 'Date',\n",
    "        ylabel_orig = orig_display_name,\n",
    "        title_transformed = transformed_display_name,\n",
    "        xlabel_transformed = 'Date',\n",
    "        ylabel_transformed = transformed_display_name\n",
    "    )"
   ]
  },
  {
   "cell_type": "markdown",
   "metadata": {
    "colab_type": "text",
    "id": "vWzeTUGxAcCS"
   },
   "source": [
    "Переходим к логарифмической доходности."
   ]
  },
  {
   "cell_type": "code",
   "execution_count": null,
   "metadata": {
    "colab": {},
    "colab_type": "code",
    "id": "Ie39Hgb_AcCT"
   },
   "outputs": [],
   "source": [
    "transformed_target = instr.c.transform(transforms={'ratios' : {}, 'ln' : {}})"
   ]
  },
  {
   "cell_type": "code",
   "execution_count": null,
   "metadata": {
    "colab": {
     "base_uri": "https://localhost:8080/",
     "height": 457
    },
    "colab_type": "code",
    "id": "Ouxs6YBVAcCX",
    "outputId": "7b437155-308e-4631-a251-09eb18d46e52"
   },
   "outputs": [],
   "source": [
    "plot_transformed_series(instr,\n",
    "                        transformed_target,\n",
    "                        'Daily close price, USD', 'Daily log return')"
   ]
  },
  {
   "cell_type": "markdown",
   "metadata": {
    "colab_type": "text",
    "id": "bDn-b7gTAcCc"
   },
   "source": [
    "## Трансформация признаков\n",
    "\n",
    "Приведение временных рядов к стационарности."
   ]
  },
  {
   "cell_type": "code",
   "execution_count": null,
   "metadata": {
    "colab": {},
    "colab_type": "code",
    "id": "e1XM-XA5AcCe"
   },
   "outputs": [],
   "source": [
    "def make_feature_selector():\n",
    "    price_transformer = lambda: {'ratios': {}, 'ln': {}}\n",
    "    diff_transformer = lambda o: {'diffs': {'order': o}}\n",
    "    identity_transformer = lambda: {}\n",
    "    feature_transformations = {\n",
    "        'o': price_transformer(),\n",
    "        'h': price_transformer(),\n",
    "        'l': price_transformer(),\n",
    "        'c': price_transformer(),\n",
    "        'v': diff_transformer(1),\n",
    "        'ema14': diff_transformer(1),\n",
    "        'ema30': diff_transformer(1),\n",
    "        'macd': diff_transformer(1),\n",
    "        'macd_signal': diff_transformer(1),\n",
    "        'rsi14': diff_transformer(1),\n",
    "        'bband20_upper': diff_transformer(1),\n",
    "        'bband20_middle': diff_transformer(1),\n",
    "        'bband20_lower': diff_transformer(1),\n",
    "        'willr14': identity_transformer(),\n",
    "        'stochd': identity_transformer(),\n",
    "        'stochk': identity_transformer(),\n",
    "        'adline': diff_transformer(1),\n",
    "        'adosc': diff_transformer(1)\n",
    "    }\n",
    "    return feature_transformations"
   ]
  },
  {
   "cell_type": "code",
   "execution_count": null,
   "metadata": {
    "colab": {},
    "colab_type": "code",
    "id": "6kDX7J3iAcCi"
   },
   "outputs": [],
   "source": [
    "instr_transformed = instr.select_transform(make_feature_selector())"
   ]
  },
  {
   "cell_type": "code",
   "execution_count": null,
   "metadata": {
    "colab": {},
    "colab_type": "code",
    "id": "q56bRfptAcCm"
   },
   "outputs": [],
   "source": [
    "transformed_target = instr_transformed.c"
   ]
  },
  {
   "cell_type": "markdown",
   "metadata": {
    "colab_type": "text",
    "id": "iFBwHcbyAcCx"
   },
   "source": [
    "## Обучающая, валидационная и тестовая выборки"
   ]
  },
  {
   "cell_type": "code",
   "execution_count": null,
   "metadata": {
    "colab": {
     "base_uri": "https://localhost:8080/",
     "height": 34
    },
    "colab_type": "code",
    "id": "b_xiEZ3aAcC0",
    "outputId": "9e087000-4eac-40d5-dab9-468a2c915057"
   },
   "outputs": [],
   "source": [
    "instr_train, instr_val_test = instr_transformed.train_test_split(VAL_SPLIT, window_size=WINDOW_SIZE,\n",
    "                                                                 scaler=StandardScaler)\n",
    "#                                                                  scaler=MinMaxScaler,\n",
    "#                                                                  scaler_kwargs={'feature_range': (-1, 1)})\n",
    "\n",
    "instr_val, instr_test = instr_val_test.train_test_split(TEST_SPLIT, window_size=WINDOW_SIZE, scaler=None)\n",
    "\n",
    "len(instr_train), len(instr_val), len(instr_test)"
   ]
  },
  {
   "cell_type": "markdown",
   "metadata": {
    "colab_type": "text",
    "id": "94mSogqaAcC4"
   },
   "source": [
    "Все отмасштабированные признаки на одном графике (для валидационного датасета):"
   ]
  },
  {
   "cell_type": "code",
   "execution_count": null,
   "metadata": {
    "colab": {
     "base_uri": "https://localhost:8080/",
     "height": 1000
    },
    "colab_type": "code",
    "id": "kZNDBvmdAcC6",
    "outputId": "eeff364a-9be0-4a28-a0a4-3d1dbe2bf11c"
   },
   "outputs": [],
   "source": [
    "plotHelpers.plot_all_features(instr_val)"
   ]
  },
  {
   "cell_type": "markdown",
   "metadata": {
    "colab_type": "text",
    "id": "zEte__lfAcC8"
   },
   "source": [
    "## Признаки - скользящие окна"
   ]
  },
  {
   "cell_type": "code",
   "execution_count": null,
   "metadata": {
    "colab": {
     "base_uri": "https://localhost:8080/",
     "height": 34
    },
    "colab_type": "code",
    "id": "wjY6O9I_AcC9",
    "outputId": "6c223efd-2ada-46d0-b1da-b66763d1cc07"
   },
   "outputs": [],
   "source": [
    "train_mwf = MovingWindowFeatures.create(instr_train.c, [instr_train], instr_train.feature_names, window_size=WINDOW_SIZE)\n",
    "val_mwf = MovingWindowFeatures.create(instr_val.c, [instr_val], instr_val.feature_names, window_size=WINDOW_SIZE)\n",
    "test_mwf = MovingWindowFeatures.create(instr_test.c, [instr_test], instr_test.feature_names, window_size=WINDOW_SIZE)\n",
    "\n",
    "len(instr_train), len(train_mwf), train_mwf.features.shape"
   ]
  },
  {
   "cell_type": "markdown",
   "metadata": {
    "colab_type": "text",
    "id": "1kKUld_QAcDB"
   },
   "source": [
    "Проверка, что скользящие окна соответствуют исходным данным.\n",
    "\n",
    "Возьмём произвольный признак и произвольное окно (строка #**41**). Проверим, что данные в точности совпадают:"
   ]
  },
  {
   "cell_type": "code",
   "execution_count": null,
   "metadata": {
    "colab": {
     "base_uri": "https://localhost:8080/",
     "height": 34
    },
    "colab_type": "code",
    "id": "vLBGOP5bAcDD",
    "outputId": "36271803-ac77-4c1c-eb80-fc1731ae13e0"
   },
   "outputs": [],
   "source": [
    "def check_data(md, mwf, row):\n",
    "    col = np.random.randint(len(mwf.feature_names))\n",
    "    feature = mwf.feature_names[col]\n",
    "    check = (getattr(md, feature).data[row:row + mwf.window_size] == mwf.features[row, :, col]).all()\n",
    "    assert check\n",
    "    return feature, check\n",
    "\n",
    "check_data(instr_train, train_mwf, 41)"
   ]
  },
  {
   "cell_type": "markdown",
   "metadata": {
    "colab_type": "text",
    "id": "d_nbFhdAAcDH"
   },
   "source": [
    "# *Модели*"
   ]
  },
  {
   "cell_type": "markdown",
   "metadata": {
    "colab_type": "text",
    "id": "U5Au9mfeAcDI"
   },
   "source": [
    "Модель с двумя LSTM слоями."
   ]
  },
  {
   "cell_type": "code",
   "execution_count": null,
   "metadata": {
    "colab": {},
    "colab_type": "code",
    "id": "3av8OaURAcDJ"
   },
   "outputs": [],
   "source": [
    "def build_lstm_layers(input_shape, latent_dim=(16, 32)):\n",
    "    # формат входа: наша матрица (окно; признак)\n",
    "    inp = Input(input_shape, name='input')\n",
    "\n",
    "    # стекаем два уровня LSTM\n",
    "    lstm = LSTM(latent_dim[0], return_sequences=True, \n",
    "                    recurrent_dropout=0.2, dropout=0.2, \n",
    "                    bias_initializer='he_uniform',\n",
    "                    bias_regularizer=L1L2(0.01, 0.02),\n",
    "                    kernel_regularizer=L1L2(0.01, 0.02),\n",
    "                    recurrent_regularizer=L1L2(0.01, 0.02)\n",
    "               )(inp)\n",
    "\n",
    "    lstm = LSTM(latent_dim[1], return_sequences=True,\n",
    "                    recurrent_dropout=0.2, dropout=0.2,\n",
    "                    bias_initializer='he_uniform',\n",
    "                    bias_regularizer=L1L2(0.01, 0.02),\n",
    "                    kernel_regularizer=L1L2(0.01, 0.02),\n",
    "                    recurrent_regularizer=L1L2(0.01, 0.02)\n",
    "               )(lstm)\n",
    "    \n",
    "    lstm = Flatten()(lstm)\n",
    "    \n",
    "    return inp, lstm"
   ]
  },
  {
   "cell_type": "markdown",
   "metadata": {
    "colab_type": "text",
    "id": "8wUW9CRKAcDM"
   },
   "source": [
    "#### Пути сохранения моделей:"
   ]
  },
  {
   "cell_type": "code",
   "execution_count": null,
   "metadata": {
    "colab": {},
    "colab_type": "code",
    "id": "R6SFzetoAcDN"
   },
   "outputs": [],
   "source": [
    "model_path_root = 'models'\n",
    "model_type_name = 'lstm2_multivar'\n",
    "\n",
    "def make_model_save_dir(path_root, type_name, class_name):\n",
    "    save_dir = os.path.join(path_root, type_name, class_name)\n",
    "    os.makedirs(save_dir, exist_ok=True)\n",
    "    return save_dir"
   ]
  },
  {
   "cell_type": "markdown",
   "metadata": {
    "colab_type": "text",
    "id": "OPLbVfrLAcDR"
   },
   "source": [
    "#### Общие коллбэки:"
   ]
  },
  {
   "cell_type": "code",
   "execution_count": null,
   "metadata": {
    "colab": {},
    "colab_type": "code",
    "id": "0kJYpDrZAcDS"
   },
   "outputs": [],
   "source": [
    "# уменьшение learning rate в случае, если loss не изменяется\n",
    "reduce_lr = ReduceLROnPlateau(monitor='val_loss', factor=0.2, patience=2, min_lr=0.00001, verbose=1)\n",
    "\n",
    "# уменьшение learning rate в 2 раза каждую 5-ю эпоху\n",
    "def lr_decay(e, lr):\n",
    "    return lr * (1 - 0.5 * (0 == (e + 1) % 5))\n",
    "\n",
    "lr_scheduler = LearningRateScheduler(schedule=lr_decay, verbose=1)"
   ]
  },
  {
   "cell_type": "markdown",
   "metadata": {
    "colab_type": "text",
    "id": "-q6D5fPsAcDY"
   },
   "source": [
    "## Задача регрессии\n",
    "\n",
    "Непосредственное прогнозирование цены следующего периода."
   ]
  },
  {
   "cell_type": "code",
   "execution_count": null,
   "metadata": {
    "colab": {},
    "colab_type": "code",
    "id": "iWsAm9JrAcDa"
   },
   "outputs": [],
   "source": [
    "train_regr_gen = RegressionGenerator.create(train_mwf, batch_size=BATCH_SIZE)\n",
    "val_regr_gen = RegressionGenerator.create(val_mwf, batch_size=BATCH_SIZE, shuffle=False)\n",
    "test_regr_gen = RegressionGenerator.create(test_mwf, batch_size=BATCH_SIZE, shuffle=False)"
   ]
  },
  {
   "cell_type": "markdown",
   "metadata": {
    "colab_type": "text",
    "id": "K6wc5HqrAcDc"
   },
   "source": [
    "Следующие числа соответствуют значению параметра `steps_per_epoch` метода [`fit_generator`](https://www.tensorflow.org/api_docs/python/tf/keras/Model#fit_generator \"tf.keras.layers.SimpleRNN &nbsp;|&nbsp; TensorFlow Core r2.0\") - то есть это число батчей, которые генератор выдаст за одну эпоху обучения (если класс генератора поддерживает метод `len()`, то данный параметр можно не указывать)."
   ]
  },
  {
   "cell_type": "code",
   "execution_count": null,
   "metadata": {
    "colab": {
     "base_uri": "https://localhost:8080/",
     "height": 34
    },
    "colab_type": "code",
    "id": "-Hi5i0OtAcDd",
    "outputId": "94e8a44f-490a-4140-874f-8873d8b51b44",
    "scrolled": true
   },
   "outputs": [],
   "source": [
    "len(train_regr_gen), len(val_regr_gen), len(test_regr_gen)"
   ]
  },
  {
   "cell_type": "markdown",
   "metadata": {
    "colab_type": "text",
    "id": "rLv67tYrAcDh"
   },
   "source": [
    "Один сэмпл данных представляет собой матрицу размером *(длина окна; число признаков)*"
   ]
  },
  {
   "cell_type": "code",
   "execution_count": null,
   "metadata": {
    "colab": {
     "base_uri": "https://localhost:8080/",
     "height": 34
    },
    "colab_type": "code",
    "id": "9Sw4sDB9AcDj",
    "outputId": "a25f6c54-1456-4e19-922d-d3d302268d2e"
   },
   "outputs": [],
   "source": [
    "train_regr_gen.input_shape"
   ]
  },
  {
   "cell_type": "markdown",
   "metadata": {
    "colab_type": "text",
    "id": "HySq7kuCAcDo"
   },
   "source": [
    "### Модель для задачи регрессии"
   ]
  },
  {
   "cell_type": "code",
   "execution_count": null,
   "metadata": {
    "colab": {},
    "colab_type": "code",
    "id": "sklDJy3pAcDp"
   },
   "outputs": [],
   "source": [
    "model_class_name = 'regression'"
   ]
  },
  {
   "cell_type": "code",
   "execution_count": null,
   "metadata": {
    "colab": {},
    "colab_type": "code",
    "id": "T6qHCX_mAcDt"
   },
   "outputs": [],
   "source": [
    "def build_regression_model(input_shape):\n",
    "    inp, lstm = build_lstm_layers(input_shape, latent_dim=(16, 32))\n",
    "\n",
    "    regr = Dense(64)(lstm)\n",
    "    regr = BatchNormalization()(regr)\n",
    "    regr = LeakyReLU()(regr)\n",
    "    regr = Dropout(0.5)(regr)\n",
    "    regr = Dense(1, activation='linear', name='regr')(regr)\n",
    "\n",
    "    return Model(inputs=[inp], outputs=[regr])"
   ]
  },
  {
   "cell_type": "code",
   "execution_count": null,
   "metadata": {
    "colab": {},
    "colab_type": "code",
    "id": "EHuyrRcpAcDx"
   },
   "outputs": [],
   "source": [
    "multivariate_regression_lstm = build_regression_model(train_regr_gen.input_shape)\n",
    "\n",
    "model_save_dir = make_model_save_dir(model_path_root, model_type_name, model_class_name)"
   ]
  },
  {
   "cell_type": "markdown",
   "metadata": {
    "colab_type": "text",
    "id": "XzZ5KKTSAcD0"
   },
   "source": [
    "#### Оптимизатор:\n",
    "[`Nadam`](https://www.tensorflow.org/api_docs/python/tf/keras/optimizers/Nadam) (*Adam with Nestrov momentum*)."
   ]
  },
  {
   "cell_type": "code",
   "execution_count": null,
   "metadata": {
    "colab": {},
    "colab_type": "code",
    "id": "vH-V2yPBAcD2"
   },
   "outputs": [],
   "source": [
    "optimizer = Nadam(lr=0.001, clipnorm=0.5)"
   ]
  },
  {
   "cell_type": "markdown",
   "metadata": {
    "colab_type": "text",
    "id": "OzPYGyJCAcD6"
   },
   "source": [
    "#### Дополнительные коллбэки:"
   ]
  },
  {
   "cell_type": "code",
   "execution_count": null,
   "metadata": {
    "colab": {},
    "colab_type": "code",
    "id": "TeAizvEmAcD8"
   },
   "outputs": [],
   "source": [
    "checkpointer = ModelCheckpoint(monitor='val_loss', verbose=1, save_best_only=True,\n",
    "                               filepath=os.path.join(model_save_dir, '{epoch:02d}.hdf5'))\n",
    "\n",
    "earlyStopping = EarlyStopping(monitor='val_loss', patience=5, min_delta=0.001, verbose=1)"
   ]
  },
  {
   "cell_type": "markdown",
   "metadata": {
    "colab_type": "text",
    "id": "l0DsBK07AcD_"
   },
   "source": [
    "#### Функция потерь:\n",
    "\n",
    "В качестве функции потерь будем использовать [MSE](https://www.tensorflow.org/api_docs/python/tf/keras/losses/MSE) (чтобы штрафовать за большие отклонения). Xотя хорошая функция потерь в контексте темы данной задачи - это [вопрос сложный](https://github.com/CamDavidsonPilon/Probabilistic-Programming-and-Bayesian-Methods-for-Hackers/blob/master/Chapter5_LossFunctions/Ch5_LossFunctions_PyMC3.ipynb). В частности, здесь нам, очевидно, помимо абсолютного значения отклонения также важен его знак."
   ]
  },
  {
   "cell_type": "code",
   "execution_count": null,
   "metadata": {
    "colab": {
     "base_uri": "https://localhost:8080/",
     "height": 474
    },
    "colab_type": "code",
    "id": "H0OM3ylxAcEA",
    "outputId": "b33217b5-3115-4d62-965b-7a9e5af5bbc3"
   },
   "outputs": [],
   "source": [
    "multivariate_regression_lstm.compile(optimizer=optimizer,\n",
    "                                     loss={'regr': 'mse'},\n",
    "                                     metrics={'regr': 'mae'})\n",
    "\n",
    "multivariate_regression_lstm.summary()"
   ]
  },
  {
   "cell_type": "markdown",
   "metadata": {
    "colab_type": "text",
    "id": "9dc98AGeAcEC"
   },
   "source": [
    "#### Обучение:"
   ]
  },
  {
   "cell_type": "code",
   "execution_count": null,
   "metadata": {
    "colab": {
     "base_uri": "https://localhost:8080/",
     "height": 1000
    },
    "colab_type": "code",
    "id": "Lvd8XZ0bAcED",
    "outputId": "ed494555-ec96-4069-dbf0-d03290b71cdb"
   },
   "outputs": [],
   "source": [
    "regr_history = utils.train_model(multivariate_regression_lstm,\n",
    "                                 model_save_dir, train_regr_gen, val_regr_gen,\n",
    "                                 callbacks=[reduce_lr, lr_scheduler, checkpointer, earlyStopping],\n",
    "                                 force_train=FORCE_TRAIN, verbose=1)"
   ]
  },
  {
   "cell_type": "code",
   "execution_count": null,
   "metadata": {
    "colab": {
     "base_uri": "https://localhost:8080/",
     "height": 410
    },
    "colab_type": "code",
    "id": "GnKXVpQ1AcEH",
    "outputId": "f9ca4328-79b9-414b-dbc0-e5f3f5203746"
   },
   "outputs": [],
   "source": [
    "def plot_regr_history(hist):\n",
    "    fig, ax = plt.subplots(1, 2, figsize=(16, 6))\n",
    "    plotHelpers.plot_train_history(ax[0], hist, 'MSE', 'loss', 'val_loss')\n",
    "    plotHelpers.plot_train_history(ax[1], hist, 'MAE', 'mae', 'val_mae')\n",
    "    \n",
    "plot_regr_history(regr_history);"
   ]
  },
  {
   "cell_type": "markdown",
   "metadata": {
    "colab_type": "text",
    "id": "e3LsYKSGAcEM"
   },
   "source": [
    "### Прогноз задачи регрессии"
   ]
  },
  {
   "cell_type": "code",
   "execution_count": null,
   "metadata": {
    "colab": {},
    "colab_type": "code",
    "id": "heKnsmVxAcEP"
   },
   "outputs": [],
   "source": [
    "# загружаем последнюю эпоху с минимальным лоссом\n",
    "multivariate_regression_lstm.load_weights(sorted(glob.glob(os.path.join(model_save_dir,'*.hdf5')))[-1])"
   ]
  },
  {
   "cell_type": "markdown",
   "metadata": {
    "colab_type": "text",
    "id": "gZ21a1P6AcEX"
   },
   "source": [
    "#### На тесте:"
   ]
  },
  {
   "cell_type": "code",
   "execution_count": null,
   "metadata": {
    "colab": {
     "base_uri": "https://localhost:8080/",
     "height": 34
    },
    "colab_type": "code",
    "id": "qO8xe6ETAcEZ",
    "outputId": "d6c777ef-50ec-4965-d316-80213ee4e298"
   },
   "outputs": [],
   "source": [
    "pred_log_ret_test = multivariate_regression_lstm.predict_generator(test_regr_gen, verbose=1)"
   ]
  },
  {
   "cell_type": "code",
   "execution_count": null,
   "metadata": {
    "colab": {
     "base_uri": "https://localhost:8080/",
     "height": 1000
    },
    "colab_type": "code",
    "id": "mDl3zStsAcEc",
    "outputId": "014b2b17-57db-44e0-d11b-fd52f836290d",
    "scrolled": false
   },
   "outputs": [],
   "source": [
    "plotHelpers.plot_regr_predictions(orig_target, instr_test, pred_log_ret_test, figsize=(16, 20))"
   ]
  },
  {
   "cell_type": "markdown",
   "metadata": {
    "colab_type": "text",
    "id": "HQ20GrbDAcEf"
   },
   "source": [
    "## Задача классификации\n",
    "\n",
    "Прогнозируем направление изменения цены по сравнению с предыдущим периодом (**0** - снижение, **1** - рост)."
   ]
  },
  {
   "cell_type": "code",
   "execution_count": null,
   "metadata": {
    "colab": {},
    "colab_type": "code",
    "id": "yjxn-RBPAcEh"
   },
   "outputs": [],
   "source": [
    "model_class_name = 'classification'"
   ]
  },
  {
   "cell_type": "code",
   "execution_count": null,
   "metadata": {
    "colab": {},
    "colab_type": "code",
    "id": "0SahLfM8AcEm"
   },
   "outputs": [],
   "source": [
    "train_clf_gen = ClassificationGenerator.create(train_mwf, batch_size=BATCH_SIZE)\n",
    "val_clf_gen = ClassificationGenerator.create(val_mwf, batch_size=BATCH_SIZE, shuffle=False)\n",
    "test_clf_gen = ClassificationGenerator.create(test_mwf, batch_size=BATCH_SIZE, shuffle=False)"
   ]
  },
  {
   "cell_type": "code",
   "execution_count": null,
   "metadata": {
    "colab": {},
    "colab_type": "code",
    "id": "7NMONabxAcEr"
   },
   "outputs": [],
   "source": [
    "def build_classification_model(input_shape):\n",
    "    inp, lstm = build_lstm_layers(input_shape, latent_dim=(16, 32))\n",
    "\n",
    "    clf = Dense(64)(lstm)\n",
    "    clf = BatchNormalization()(clf)\n",
    "    clf = LeakyReLU()(clf)\n",
    "    clf = Dropout(0.5)(clf)\n",
    "    clf = Dense(1, activation='sigmoid', name='clf')(clf)\n",
    "\n",
    "    return Model(inputs=[inp], outputs=[clf])"
   ]
  },
  {
   "cell_type": "code",
   "execution_count": null,
   "metadata": {
    "colab": {},
    "colab_type": "code",
    "id": "oSoURI7JAcEw"
   },
   "outputs": [],
   "source": [
    "multivariate_classification_lstm = build_classification_model(test_clf_gen.input_shape)\n",
    "\n",
    "model_save_dir = make_model_save_dir(model_path_root, model_type_name, model_class_name)"
   ]
  },
  {
   "cell_type": "markdown",
   "metadata": {
    "colab_type": "text",
    "id": "Uwf3ctzNAcE1"
   },
   "source": [
    "#### Оптимизатор:"
   ]
  },
  {
   "cell_type": "code",
   "execution_count": null,
   "metadata": {
    "colab": {},
    "colab_type": "code",
    "id": "fYSqBLaZAcE7"
   },
   "outputs": [],
   "source": [
    "optimizer = Nadam(lr=0.001, clipnorm=0.5)"
   ]
  },
  {
   "cell_type": "markdown",
   "metadata": {
    "colab_type": "text",
    "id": "_fkp9noAAcE_"
   },
   "source": [
    "#### Функция потерь:"
   ]
  },
  {
   "cell_type": "code",
   "execution_count": null,
   "metadata": {
    "colab": {
     "base_uri": "https://localhost:8080/",
     "height": 474
    },
    "colab_type": "code",
    "id": "3XFte6mqAcE_",
    "outputId": "5f2d640d-c181-444e-f665-0ee1fcb38456"
   },
   "outputs": [],
   "source": [
    "multivariate_classification_lstm.compile(optimizer=optimizer,\n",
    "                                         loss={'clf': 'binary_crossentropy'},\n",
    "                                         metrics={'clf': 'accuracy'})\n",
    "\n",
    "multivariate_classification_lstm.summary()"
   ]
  },
  {
   "cell_type": "markdown",
   "metadata": {
    "colab_type": "text",
    "id": "CDrw2ASvAcFC"
   },
   "source": [
    "#### Дополнительные коллбэки:"
   ]
  },
  {
   "cell_type": "code",
   "execution_count": null,
   "metadata": {
    "colab": {},
    "colab_type": "code",
    "id": "esbyjeFxAcFD"
   },
   "outputs": [],
   "source": [
    "checkpointer = ModelCheckpoint(monitor='val_loss', verbose=1, save_best_only=True,\n",
    "                               filepath=os.path.join(model_save_dir, '{epoch:02d}.hdf5'))\n",
    "\n",
    "earlyStopping = EarlyStopping(monitor='val_loss', patience=5, min_delta=0.001, verbose=1)"
   ]
  },
  {
   "cell_type": "markdown",
   "metadata": {
    "colab_type": "text",
    "id": "6vONrHcLAcFG"
   },
   "source": [
    "#### Обучение:"
   ]
  },
  {
   "cell_type": "code",
   "execution_count": null,
   "metadata": {
    "colab": {
     "base_uri": "https://localhost:8080/",
     "height": 1000
    },
    "colab_type": "code",
    "id": "G-s9EfmYAcFH",
    "outputId": "8d67b3cd-32cd-4b21-ca3a-ba0276143f9b"
   },
   "outputs": [],
   "source": [
    "clf_history = utils.train_model(multivariate_classification_lstm,\n",
    "                                model_save_dir, train_clf_gen, val_clf_gen,\n",
    "                                callbacks=[reduce_lr, lr_scheduler, checkpointer, earlyStopping],\n",
    "                                force_train=FORCE_TRAIN, verbose=1)"
   ]
  },
  {
   "cell_type": "code",
   "execution_count": null,
   "metadata": {
    "colab": {
     "base_uri": "https://localhost:8080/",
     "height": 410
    },
    "colab_type": "code",
    "id": "89twfff2AcFK",
    "outputId": "554b2c78-d2fd-4a3c-9596-2b76b80d860c"
   },
   "outputs": [],
   "source": [
    "def plot_clf_history(hist):\n",
    "    fig, ax = plt.subplots(1, 2, figsize=(16, 6))\n",
    "    plotHelpers.plot_train_history(ax[0], hist, 'Loss', 'loss', 'val_loss')\n",
    "    plotHelpers.plot_train_history(ax[1], hist, 'Accuracy', 'accuracy', 'val_accuracy')\n",
    "    \n",
    "plot_clf_history(clf_history);"
   ]
  },
  {
   "cell_type": "markdown",
   "metadata": {
    "colab_type": "text",
    "id": "pIeRfmcfAcFN"
   },
   "source": [
    "### Прогноз задачи классификации"
   ]
  },
  {
   "cell_type": "code",
   "execution_count": null,
   "metadata": {
    "colab": {},
    "colab_type": "code",
    "id": "EVGONeoOAcFP"
   },
   "outputs": [],
   "source": [
    "# загружаем последнюю эпоху с минимальным лоссом\n",
    "multivariate_classification_lstm.load_weights(sorted(glob.glob(os.path.join(model_save_dir,'*.hdf5')))[-1])"
   ]
  },
  {
   "cell_type": "code",
   "execution_count": null,
   "metadata": {
    "colab": {
     "base_uri": "https://localhost:8080/",
     "height": 52
    },
    "colab_type": "code",
    "id": "dQUPak17AcFS",
    "outputId": "255aae84-90a2-4282-a747-1f2bf28c37e8"
   },
   "outputs": [],
   "source": [
    "pred_direction_proba = multivariate_classification_lstm.predict_generator(test_clf_gen, verbose=1)\n",
    "\n",
    "true_direction = test_clf_gen.get_target_direction(test_mwf.target[-len(pred_direction_proba):])\n",
    "\n",
    "predicted_direction = (np.mean(pred_direction_proba) < pred_direction_proba).astype(np.int)\n",
    "\n",
    "np.mean(pred_direction_proba)"
   ]
  },
  {
   "cell_type": "code",
   "execution_count": null,
   "metadata": {
    "colab": {
     "base_uri": "https://localhost:8080/",
     "height": 34
    },
    "colab_type": "code",
    "id": "hknyxOd5AcFU",
    "outputId": "0af3496c-298e-4fa9-cce9-add7099da8d7"
   },
   "outputs": [],
   "source": [
    "np.unique(true_direction, return_counts=True), \\\n",
    "np.unique(predicted_direction, return_counts=True)"
   ]
  },
  {
   "cell_type": "code",
   "execution_count": null,
   "metadata": {
    "colab": {
     "base_uri": "https://localhost:8080/",
     "height": 268
    },
    "colab_type": "code",
    "id": "Eoem2RwAAcFY",
    "outputId": "f836d612-4c8b-4460-9780-068bf62b1b6d"
   },
   "outputs": [],
   "source": [
    "plt.hist(pred_direction_proba, bins=20)\n",
    "plt.axvline(np.mean(pred_direction_proba), c='r');"
   ]
  },
  {
   "cell_type": "code",
   "execution_count": null,
   "metadata": {
    "colab": {
     "base_uri": "https://localhost:8080/",
     "height": 175
    },
    "colab_type": "code",
    "id": "vatyZLJgAcFf",
    "outputId": "d83bda26-cd9c-4bfc-bd41-f857e21eef58"
   },
   "outputs": [],
   "source": [
    "print(classification_report(true_direction, predicted_direction))"
   ]
  },
  {
   "cell_type": "code",
   "execution_count": null,
   "metadata": {
    "colab": {
     "base_uri": "https://localhost:8080/",
     "height": 52
    },
    "colab_type": "code",
    "id": "6f3nDTOHAcFi",
    "outputId": "3a3dae8a-75c1-4843-d506-271265cc6141"
   },
   "outputs": [],
   "source": [
    "confusion_matrix(true_direction, predicted_direction)"
   ]
  },
  {
   "cell_type": "code",
   "execution_count": null,
   "metadata": {
    "colab": {
     "base_uri": "https://localhost:8080/",
     "height": 283
    },
    "colab_type": "code",
    "id": "3GbM1VezAcFq",
    "outputId": "ee3c521a-af92-483e-a20b-f7aab20dc603"
   },
   "outputs": [],
   "source": [
    "plotHelpers.show_confusion_matrix(true_direction, predicted_direction, ['down', 'up'])"
   ]
  },
  {
   "cell_type": "code",
   "execution_count": null,
   "metadata": {
    "colab": {
     "base_uri": "https://localhost:8080/",
     "height": 410
    },
    "colab_type": "code",
    "id": "-z3rBp6mAcFu",
    "outputId": "bd35d1a5-aea4-4838-8b0e-30a548755f4e"
   },
   "outputs": [],
   "source": [
    "plotHelpers.plot_roc_pr_curves(true_direction, pred_direction_proba)"
   ]
  },
  {
   "cell_type": "markdown",
   "metadata": {
    "colab_type": "text",
    "id": "yea1BPp7AcFy"
   },
   "source": [
    "## Многозадачная модель: одновременно регрессия и классификация"
   ]
  },
  {
   "cell_type": "code",
   "execution_count": null,
   "metadata": {
    "colab": {},
    "colab_type": "code",
    "id": "w-Tg61rpAcFz"
   },
   "outputs": [],
   "source": [
    "model_class_name = 'multitask'"
   ]
  },
  {
   "cell_type": "code",
   "execution_count": null,
   "metadata": {
    "colab": {},
    "colab_type": "code",
    "id": "XuMdwcVNAcF4"
   },
   "outputs": [],
   "source": [
    "train_multi_gen = MultitaskGenerator.create(train_mwf, batch_size=BATCH_SIZE)\n",
    "val_multi_gen = MultitaskGenerator.create(val_mwf, batch_size=BATCH_SIZE, shuffle=False)\n",
    "test_multi_gen = MultitaskGenerator.create(test_mwf, batch_size=BATCH_SIZE, shuffle=False)"
   ]
  },
  {
   "cell_type": "code",
   "execution_count": null,
   "metadata": {
    "colab": {},
    "colab_type": "code",
    "id": "QoVQ7Ch0AcF_"
   },
   "outputs": [],
   "source": [
    "def build_multitask_model(input_shape):\n",
    "    inp, lstm = build_lstm_layers(input_shape, latent_dim=(16, 32))\n",
    "\n",
    "    # первый выход: задача регрссии\n",
    "    regr = Dense(64)(lstm)\n",
    "    regr = BatchNormalization()(regr)\n",
    "    regr = LeakyReLU()(regr)\n",
    "    regr = Dropout(0.5)(regr)\n",
    "    regr = Dense(1, activation='linear', name='regr')(regr)\n",
    "\n",
    "    # второй выход: задача классификации\n",
    "    clf = Dense(64)(lstm)\n",
    "    clf = BatchNormalization()(clf)\n",
    "    clf = LeakyReLU()(clf)\n",
    "    clf = Dropout(0.5)(clf)\n",
    "    clf = Dense(1, activation='sigmoid', name='clf')(clf)\n",
    "    \n",
    "    return Model(inputs=[inp], outputs=[regr, clf])"
   ]
  },
  {
   "cell_type": "code",
   "execution_count": null,
   "metadata": {
    "colab": {},
    "colab_type": "code",
    "id": "NkkZFarQAcGC"
   },
   "outputs": [],
   "source": [
    "multivariate_multitask_lstm = build_multitask_model(train_multi_gen.input_shape)\n",
    "\n",
    "model_save_dir = make_model_save_dir(model_path_root, model_type_name, model_class_name)"
   ]
  },
  {
   "cell_type": "markdown",
   "metadata": {
    "colab_type": "text",
    "id": "f8jXEe2AAcGE"
   },
   "source": [
    "#### Оптимизатор:"
   ]
  },
  {
   "cell_type": "code",
   "execution_count": null,
   "metadata": {
    "colab": {},
    "colab_type": "code",
    "id": "FjbfxkOvAcGF"
   },
   "outputs": [],
   "source": [
    "optimizer = Nadam(lr=0.001, clipnorm=0.5)"
   ]
  },
  {
   "cell_type": "markdown",
   "metadata": {
    "colab_type": "text",
    "id": "jufCI-9SAcGH"
   },
   "source": [
    "#### Функция потерь:"
   ]
  },
  {
   "cell_type": "code",
   "execution_count": null,
   "metadata": {
    "colab": {
     "base_uri": "https://localhost:8080/",
     "height": 650
    },
    "colab_type": "code",
    "id": "4T9ikrAXAcGH",
    "outputId": "dfa6b34b-3823-4239-f907-a558fbaeb5e3"
   },
   "outputs": [],
   "source": [
    "multivariate_multitask_lstm.compile(optimizer=optimizer,\n",
    "                                    loss={'regr': 'mse', 'clf': 'binary_crossentropy'},\n",
    "                                    loss_weights={'regr': 2., 'clf': 1.},\n",
    "                                    metrics={'regr': 'mae', 'clf' : 'accuracy'})\n",
    "\n",
    "multivariate_multitask_lstm.summary()"
   ]
  },
  {
   "cell_type": "markdown",
   "metadata": {
    "colab_type": "text",
    "id": "GMonRtDhAcGJ"
   },
   "source": [
    "#### Дополнительные коллбэки:"
   ]
  },
  {
   "cell_type": "code",
   "execution_count": null,
   "metadata": {
    "colab": {},
    "colab_type": "code",
    "id": "foqfL0ohAcGK"
   },
   "outputs": [],
   "source": [
    "checkpointer = ModelCheckpoint(monitor='val_loss', verbose=1, save_best_only=True,\n",
    "                               filepath=os.path.join(model_save_dir, '{epoch:02d}.hdf5'))\n",
    "\n",
    "earlyStopping = EarlyStopping(monitor='val_loss', patience=5, min_delta=0.001, verbose=1)"
   ]
  },
  {
   "cell_type": "markdown",
   "metadata": {
    "colab_type": "text",
    "id": "3tAiQzzNAcGM"
   },
   "source": [
    "#### Обучение:"
   ]
  },
  {
   "cell_type": "code",
   "execution_count": null,
   "metadata": {
    "colab": {
     "base_uri": "https://localhost:8080/",
     "height": 1000
    },
    "colab_type": "code",
    "id": "OA56Nqu5AcGM",
    "outputId": "467f875b-c946-4db3-9295-2cd65182c401"
   },
   "outputs": [],
   "source": [
    "multitask_history = utils.train_model(multivariate_multitask_lstm,\n",
    "                                      model_save_dir, train_multi_gen, val_multi_gen,\n",
    "                                      callbacks=[reduce_lr, lr_scheduler, checkpointer, earlyStopping],\n",
    "                                      force_train=FORCE_TRAIN, verbose=1)"
   ]
  },
  {
   "cell_type": "code",
   "execution_count": null,
   "metadata": {
    "colab": {
     "base_uri": "https://localhost:8080/",
     "height": 736
    },
    "colab_type": "code",
    "id": "NQaOQBLsAcGP",
    "outputId": "d600edc6-b9e1-475c-9442-49fd9df28e1a"
   },
   "outputs": [],
   "source": [
    "def plot_multitask_history(hist):\n",
    "    fig, ax = plt.subplots(2, 2, figsize=(16, 12))\n",
    "    plotHelpers.plot_train_history(ax[0, 0], hist, 'Total loss', 'loss', 'val_loss')\n",
    "    plotHelpers.plot_train_history(ax[0, 1], hist, 'Accuracy', 'clf_accuracy', 'val_clf_accuracy')\n",
    "    plotHelpers.plot_train_history(ax[1, 0], hist, 'MSE', 'regr_loss', 'val_regr_loss')\n",
    "    plotHelpers.plot_train_history(ax[1, 1], hist, 'MAE', 'regr_mae', 'val_regr_mae')\n",
    "    \n",
    "plot_multitask_history(multitask_history);"
   ]
  },
  {
   "cell_type": "markdown",
   "metadata": {
    "colab_type": "text",
    "id": "ZqkQDOOjAcGR"
   },
   "source": [
    "### Прогноз"
   ]
  },
  {
   "cell_type": "code",
   "execution_count": null,
   "metadata": {
    "colab": {},
    "colab_type": "code",
    "id": "ErqYGZV-AcGS"
   },
   "outputs": [],
   "source": [
    "# загружаем последнюю эпоху с минимальным лоссом\n",
    "multivariate_multitask_lstm.load_weights(sorted(glob.glob(os.path.join(model_save_dir,'*.hdf5')))[-1])"
   ]
  },
  {
   "cell_type": "markdown",
   "metadata": {
    "colab_type": "text",
    "id": "S2ADWlprAcGU"
   },
   "source": [
    "#### На тесте:"
   ]
  },
  {
   "cell_type": "code",
   "execution_count": null,
   "metadata": {
    "colab": {
     "base_uri": "https://localhost:8080/",
     "height": 34
    },
    "colab_type": "code",
    "id": "4GBHe9ROAcGV",
    "outputId": "daa66f1b-877d-4da3-f3ac-924e6eb63071"
   },
   "outputs": [],
   "source": [
    "pred_log_ret, pred_direction_proba = multivariate_multitask_lstm.predict_generator(test_multi_gen, verbose=1)"
   ]
  },
  {
   "cell_type": "code",
   "execution_count": null,
   "metadata": {
    "colab": {
     "base_uri": "https://localhost:8080/",
     "height": 193
    },
    "colab_type": "code",
    "id": "Ic7ZXn5AAcGX",
    "outputId": "12da52c4-5964-4870-da9f-9d525613bfdf"
   },
   "outputs": [],
   "source": [
    "np.set_printoptions(precision=3, suppress=True)\n",
    "\n",
    "np.column_stack([pred_log_ret, pred_direction_proba])[-10:]"
   ]
  },
  {
   "cell_type": "markdown",
   "metadata": {
    "colab_type": "text",
    "id": "_AC-SwjnAcGa"
   },
   "source": [
    "#### Прогноз задачи регрессии"
   ]
  },
  {
   "cell_type": "code",
   "execution_count": null,
   "metadata": {
    "colab": {
     "base_uri": "https://localhost:8080/",
     "height": 1000
    },
    "colab_type": "code",
    "id": "0ChPD_4cAcGb",
    "outputId": "5c2bf525-51eb-4be9-dc92-fb0a1c6bfbef",
    "scrolled": false
   },
   "outputs": [],
   "source": [
    "plotHelpers.plot_regr_predictions(orig_target, instr_test, pred_log_ret, figsize=(16, 20))"
   ]
  },
  {
   "cell_type": "markdown",
   "metadata": {
    "colab_type": "text",
    "id": "8eGL1lDKAcGd"
   },
   "source": [
    "#### Прогноз задачи классификации"
   ]
  },
  {
   "cell_type": "markdown",
   "metadata": {
    "colab_type": "text",
    "id": "l198rLr8AcGh"
   },
   "source": [
    "*Разделяющая способность по-прежнему слабая*"
   ]
  },
  {
   "cell_type": "code",
   "execution_count": null,
   "metadata": {
    "colab": {
     "base_uri": "https://localhost:8080/",
     "height": 34
    },
    "colab_type": "code",
    "id": "LjeEGTYoAcGi",
    "outputId": "d9266e17-da41-4cc4-d38a-47d2695b1c11"
   },
   "outputs": [],
   "source": [
    "true_direction = test_multi_gen.get_target_direction(test_mwf.target[-len(pred_direction_proba):])\n",
    "\n",
    "predicted_direction = (np.mean(pred_direction_proba) < pred_direction_proba).astype(np.int)\n",
    "\n",
    "np.mean(pred_direction_proba)"
   ]
  },
  {
   "cell_type": "code",
   "execution_count": null,
   "metadata": {
    "colab": {
     "base_uri": "https://localhost:8080/",
     "height": 34
    },
    "colab_type": "code",
    "id": "aQ5bUixNAcGm",
    "outputId": "08f7346a-42de-4325-8abb-d41fad596d7f"
   },
   "outputs": [],
   "source": [
    "np.unique(true_direction, return_counts=True), \\\n",
    "np.unique(predicted_direction, return_counts=True)"
   ]
  },
  {
   "cell_type": "code",
   "execution_count": null,
   "metadata": {
    "colab": {
     "base_uri": "https://localhost:8080/",
     "height": 268
    },
    "colab_type": "code",
    "id": "hQPv4vWGAcGp",
    "outputId": "4e944729-c891-4870-b47d-dd43c33e38c3"
   },
   "outputs": [],
   "source": [
    "plt.hist(pred_direction_proba, bins=20)\n",
    "plt.axvline(np.mean(pred_direction_proba), c='r');"
   ]
  },
  {
   "cell_type": "code",
   "execution_count": null,
   "metadata": {
    "colab": {
     "base_uri": "https://localhost:8080/",
     "height": 175
    },
    "colab_type": "code",
    "id": "iyR2na6iAcGr",
    "outputId": "4e9fca09-ff6f-4cbc-8654-efe6f91bba5a"
   },
   "outputs": [],
   "source": [
    "print(classification_report(true_direction, predicted_direction))"
   ]
  },
  {
   "cell_type": "code",
   "execution_count": null,
   "metadata": {
    "colab": {
     "base_uri": "https://localhost:8080/",
     "height": 52
    },
    "colab_type": "code",
    "id": "anGj3luxAcGt",
    "outputId": "7d3e0484-1fc4-4a1a-9e36-3228519c2402"
   },
   "outputs": [],
   "source": [
    "confusion_matrix(true_direction, predicted_direction)"
   ]
  },
  {
   "cell_type": "code",
   "execution_count": null,
   "metadata": {
    "colab": {
     "base_uri": "https://localhost:8080/",
     "height": 283
    },
    "colab_type": "code",
    "id": "CaQ8RO0CAcGv",
    "outputId": "684ba6e0-ba11-4861-bb1f-e87a50042fbf"
   },
   "outputs": [],
   "source": [
    "plotHelpers.show_confusion_matrix(true_direction, predicted_direction, ['down', 'up'])"
   ]
  },
  {
   "cell_type": "code",
   "execution_count": null,
   "metadata": {
    "colab": {
     "base_uri": "https://localhost:8080/",
     "height": 410
    },
    "colab_type": "code",
    "id": "Oee4fPNiAcGz",
    "outputId": "676be31c-8920-4f03-f3cb-ed439d61d88c"
   },
   "outputs": [],
   "source": [
    "plotHelpers.plot_roc_pr_curves(true_direction, pred_direction_proba)"
   ]
  },
  {
   "cell_type": "markdown",
   "metadata": {
    "colab_type": "text",
    "id": "ZBFE2LQRAcG0"
   },
   "source": [
    "# Выводы\n",
    "\n",
    "1.  \n"
   ]
  }
 ],
 "metadata": {
  "accelerator": "GPU",
  "colab": {
   "include_colab_link": true,
   "name": "06-lstm2_multivar.ipynb",
   "provenance": []
  },
  "kernelspec": {
   "display_name": "HSE-ML",
   "language": "python",
   "name": "hse-ml"
  },
  "language_info": {
   "codemirror_mode": {
    "name": "ipython",
    "version": 3
   },
   "file_extension": ".py",
   "mimetype": "text/x-python",
   "name": "python",
   "nbconvert_exporter": "python",
   "pygments_lexer": "ipython3",
   "version": "3.7.6"
  },
  "pycharm": {
   "stem_cell": {
    "cell_type": "raw",
    "metadata": {
     "collapsed": false
    },
    "source": []
   }
  }
 },
 "nbformat": 4,
 "nbformat_minor": 1
}
